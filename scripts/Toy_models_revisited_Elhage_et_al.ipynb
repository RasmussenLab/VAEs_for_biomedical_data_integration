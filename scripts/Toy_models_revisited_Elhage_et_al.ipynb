{
  "cells": [
    {
      "cell_type": "markdown",
      "source": [
        "# Toy Models of Superposition revisited\n",
        "\n",
        "**Introduction:**\n",
        "\n",
        "This file contains an adaptation of the first cells of the colab notebook [toy_models.ipynb](https://colab.research.google.com/github/anthropics/toy-models-of-superposition/blob/main/toy_models.ipynb), from Anthropic's paper [\"Toy models of superposition\"](https://transformer-circuits.pub/2022/toy_model/index.html).\n",
        "\n",
        "**Authors:**\n",
        "\n",
        "The paper was authored by Nelson Elhage, Tristan Hume, Catherine Olsson, Nicholas Schiefer, Tom Henighan, Shauna Kravec, Zac Hatfield-Dodds, Robert Lasenby, Dawn Drain, Carol Chen, Roger Grosse, Sam McCandlish, Jared Kaplan, Dario Amodei, Martin Wattenberg and Christopher Olah, who are to be credited for the original code and the ideas presented.\n",
        "\n",
        "**This notebook:**\n",
        "\n",
        "The goal of this adaptation is to show the behavior of the simple autoencoder proposed by Elhage et al. when compressing samples that comprise a number of features under different correlation regimes and zero sparsity.\n",
        "\n",
        "**The pipeline:**\n",
        "\n",
        "We train the autoencoder proposed by Elhage et al., where the latent representation is a linear compression to two dimensions of the inputs $x$ to a lower dimension $h = Wx$. The decoder then decompresses the input via a ReLU activation $x’ = \\text{ReLU}(W^{T} h + b) = \\text{ReLU}(W^{T}Wx + b)$.\n",
        "\n",
        " Our dataset is multivariate gaussian where $N_{features}= 5$ are different components of a multivariate gaussian with mean vector zero and unit variance, i.e. $x \\sim N(0,1)$. The covariance between features is controlled via a hyperparameter α, which describes its sparsity. The loss function is the mean squared error between inputs and outputs, since we assigned all features equal importance, i.e. $L = \\Sigma_{x} \\Sigma_{i} (x_i-x_i’)^2 $.\n",
        "\n",
        " _Note:_\n",
        "\n",
        " _Each column in the weight matrix $W$ corresponds to a direction in the latent space (2D) representing each feature $x_i$, which we will plot._\n",
        "\n",
        "**Main conclusions:**\n",
        "- Independent features cannot be compressed. The model must prioritize, learn as many as the latent dimension allows and ignore the rest.\n",
        "- When compressing correlated features, the model can represent more features than latent dimensions.\n"
      ],
      "metadata": {
        "id": "SifuSeuwi6nj"
      }
    },
    {
      "cell_type": "code",
      "execution_count": 1,
      "metadata": {
        "colab": {
          "base_uri": "https://localhost:8080/"
        },
        "id": "yfHPSGevYsdo",
        "outputId": "f302a59f-ca99-4ad6-a200-94bed76e93b0"
      },
      "outputs": [
        {
          "output_type": "stream",
          "name": "stdout",
          "text": [
            "Requirement already satisfied: einops in /usr/local/lib/python3.10/dist-packages (0.8.0)\n"
          ]
        }
      ],
      "source": [
        "!pip install einops"
      ]
    },
    {
      "cell_type": "code",
      "execution_count": 2,
      "metadata": {
        "id": "wRLgezMAZbtY"
      },
      "outputs": [],
      "source": [
        "import torch\n",
        "from torch import nn\n",
        "from torch.nn import functional as F\n",
        "\n",
        "from typing import Optional\n",
        "\n",
        "from dataclasses import dataclass, replace\n",
        "import numpy as np\n",
        "import einops\n",
        "\n",
        "from tqdm.notebook import trange\n",
        "\n",
        "import time\n",
        "import pandas as pd\n",
        "\n",
        "import plotly.express as px\n",
        "import plotly.graph_objects as go\n",
        "from plotly.subplots import make_subplots\n",
        "\n",
        "import matplotlib.pyplot as plt"
      ]
    },
    {
      "cell_type": "code",
      "execution_count": 3,
      "metadata": {
        "id": "upSmPXMrZct4"
      },
      "outputs": [],
      "source": [
        "@dataclass\n",
        "class Config:\n",
        "  n_features: int\n",
        "  n_hidden: int\n",
        "\n",
        "  # We could potentially use torch.vmap instead.\n",
        "  n_instances: int\n",
        "\n",
        "class Model(nn.Module):\n",
        "  def __init__(self,\n",
        "               config,\n",
        "               feature_probability: Optional[torch.Tensor] = None,\n",
        "               importance: Optional[torch.Tensor] = None,\n",
        "               device='cuda'):\n",
        "    super().__init__()\n",
        "    self.config = config\n",
        "    self.W = nn.Parameter(torch.empty((config.n_instances, config.n_features, config.n_hidden), device=device))\n",
        "    nn.init.xavier_normal_(self.W)\n",
        "    self.b_final = nn.Parameter(torch.zeros((config.n_instances, config.n_features), device=device))\n",
        "\n",
        "    if feature_probability is None:\n",
        "      feature_probability = torch.ones(())\n",
        "    self.feature_probability = feature_probability.to(device)\n",
        "    if importance is None:\n",
        "      importance = torch.ones(())\n",
        "    self.importance = importance.to(device)\n",
        "\n",
        "  def forward(self, features):\n",
        "    # features: [..., instance, n_features]\n",
        "    # W: [instance, n_features, n_hidden]\n",
        "    hidden = torch.einsum(\"...if,ifh->...ih\", features, self.W)\n",
        "    out = torch.einsum(\"...ih,ifh->...if\", hidden, self.W)\n",
        "    out = out + self.b_final\n",
        "    out = F.relu(out)\n",
        "    return out\n",
        "\n",
        "  def generate_batch(self, n_batch):\n",
        "    feat = torch.rand((n_batch, self.config.n_instances, self.config.n_features), device=self.W.device)\n",
        "    batch = torch.where(\n",
        "        torch.rand((n_batch, self.config.n_instances, self.config.n_features), device=self.W.device) <= self.feature_probability,\n",
        "        feat,\n",
        "        torch.zeros((), device=self.W.device),\n",
        "    )\n",
        "    return batch"
      ]
    },
    {
      "cell_type": "markdown",
      "source": [
        "> Custom model where we generate batches of samples as a multivariate gaussian where we control the degree of correlations between variables via the $\\alpha$ parameter of the covariance matrix."
      ],
      "metadata": {
        "id": "WRdUZMb1ed5p"
      }
    },
    {
      "cell_type": "code",
      "source": [
        "import torch\n",
        "import torch.nn as nn\n",
        "import torch.nn.functional as F\n",
        "from dataclasses import dataclass\n",
        "from typing import Optional\n",
        "\n",
        "@dataclass\n",
        "class Config:\n",
        "    n_features: int\n",
        "    n_hidden: int\n",
        "    n_instances: int\n",
        "\n",
        "class Model(nn.Module):\n",
        "    def __init__(self,\n",
        "                 config,\n",
        "                 feature_probability: Optional[torch.Tensor] = None,\n",
        "                 importance: Optional[torch.Tensor] = None,\n",
        "                 device='cuda',\n",
        "                 alpha: float = 0.5):\n",
        "        super().__init__()\n",
        "        self.config = config\n",
        "        self.W = nn.Parameter(torch.empty((config.n_instances, config.n_features, config.n_hidden), device=device))\n",
        "        nn.init.xavier_normal_(self.W)\n",
        "        self.b_final = nn.Parameter(torch.zeros((config.n_instances, config.n_features), device=device))\n",
        "\n",
        "        if feature_probability is None:\n",
        "            feature_probability = torch.ones(())\n",
        "        self.feature_probability = feature_probability.to(device)\n",
        "        if importance is None:\n",
        "            importance = torch.ones(())\n",
        "        self.importance = importance.to(device)\n",
        "\n",
        "        # Parameters for multivariate Gaussian\n",
        "        self.mean = nn.Parameter(torch.zeros((config.n_instances, config.n_features), device=device))\n",
        "\n",
        "        # Initialize covariance matrix with correlations\n",
        "        self.base_corr = self.initialize_base_correlation(config.n_features, device)\n",
        "        self.var = nn.Parameter(torch.ones(config.n_instances, config.n_features, device=device))\n",
        "        self.alpha = alpha\n",
        "        self.update_covariance()\n",
        "\n",
        "    def initialize_base_correlation(self, n_features, device):\n",
        "        # Create a base correlation matrix\n",
        "        base_corr = torch.eye(n_features, device=device)\n",
        "\n",
        "        # Add some off-diagonal correlations\n",
        "        for i in range(n_features):\n",
        "            for j in range(i+1, n_features):\n",
        "                corr_value = torch.rand(1, device=device)  # Random correlation between 0 and 1\n",
        "                base_corr[i, j] = corr_value\n",
        "                base_corr[j, i] = corr_value\n",
        "\n",
        "        return base_corr\n",
        "\n",
        "    def update_covariance(self):\n",
        "        # Apply alpha to off-diagonal elements\n",
        "        corr = torch.eye(self.config.n_features, device=self.W.device) + self.alpha * (self.base_corr - torch.eye(self.config.n_features, device=self.W.device))\n",
        "\n",
        "        # Ensure the matrix is positive definite\n",
        "        corr = corr @ corr.T + torch.eye(self.config.n_features, device=self.W.device) * 0.01\n",
        "\n",
        "        # Create covariance matrix\n",
        "        self.cov_matrix = corr.unsqueeze(0) * self.var.unsqueeze(-1) * self.var.unsqueeze(-2)\n",
        "\n",
        "    def set_alpha(self, new_alpha: float):\n",
        "        \"\"\"\n",
        "        Set a new alpha value and update the covariance matrix.\n",
        "        \"\"\"\n",
        "        self.alpha = new_alpha\n",
        "        self.update_covariance()\n",
        "\n",
        "    def forward(self, features):\n",
        "        # features: [..., instance, n_features]\n",
        "        # W: [instance, n_features, n_hidden]\n",
        "        hidden = torch.einsum(\"...if,ifh->...ih\", features, self.W)\n",
        "        out = torch.einsum(\"...ih,ifh->...if\", hidden, self.W)\n",
        "        out = out + self.b_final\n",
        "        out = F.relu(out)\n",
        "        return out\n",
        "\n",
        "    def generate_batch(self, n_batch):\n",
        "        # Generate samples from multivariate Gaussian\n",
        "        dist = torch.distributions.MultivariateNormal(self.mean, covariance_matrix=self.cov_matrix)\n",
        "        batch = dist.sample((n_batch,))\n",
        "\n",
        "        # We remove the probability mask: we want 0 sparsity\n",
        "        #mask = torch.rand((n_batch, self.config.n_instances, self.config.n_features), device=self.W.device) <= self.feature_probability\n",
        "        #batch = torch.where(mask, batch, torch.zeros_like(batch))\n",
        "\n",
        "        return batch"
      ],
      "metadata": {
        "id": "wP6WzvDkdP1-"
      },
      "execution_count": 4,
      "outputs": []
    },
    {
      "cell_type": "code",
      "execution_count": 5,
      "metadata": {
        "id": "2Ey4ApHYb9oY"
      },
      "outputs": [],
      "source": [
        "def linear_lr(step, steps):\n",
        "  return (1 - (step / steps))\n",
        "\n",
        "def constant_lr(*_):\n",
        "  return 1.0\n",
        "\n",
        "def cosine_decay_lr(step, steps):\n",
        "  return np.cos(0.5 * np.pi * step / (steps - 1))\n",
        "\n",
        "def optimize(model,\n",
        "             render=False,\n",
        "             n_batch=1024,\n",
        "             steps=10_000,\n",
        "             print_freq=100,\n",
        "             lr=1e-3,\n",
        "             lr_scale=constant_lr,\n",
        "             hooks=[]):\n",
        "  cfg = model.config\n",
        "\n",
        "  opt = torch.optim.AdamW(list(model.parameters()), lr=lr)\n",
        "\n",
        "  start = time.time()\n",
        "  with trange(steps) as t:\n",
        "    for step in t:\n",
        "      step_lr = lr * lr_scale(step, steps)\n",
        "      for group in opt.param_groups:\n",
        "        group['lr'] = step_lr\n",
        "      opt.zero_grad(set_to_none=True)\n",
        "      batch = model.generate_batch(n_batch)\n",
        "      out = model(batch)\n",
        "      error = (model.importance*(batch.abs() - out)**2)\n",
        "      loss = einops.reduce(error, 'b i f -> i', 'mean').sum()\n",
        "      loss.backward()\n",
        "      opt.step()\n",
        "\n",
        "      if hooks:\n",
        "        hook_data = dict(model=model,\n",
        "                         step=step,\n",
        "                         opt=opt,\n",
        "                         error=error,\n",
        "                         loss=loss,\n",
        "                         lr=step_lr)\n",
        "        for h in hooks:\n",
        "          h(hook_data)\n",
        "      if step % print_freq == 0 or (step + 1 == steps):\n",
        "        t.set_postfix(\n",
        "            loss=loss.item() / cfg.n_instances,\n",
        "            lr=step_lr,\n",
        "        )\n"
      ]
    },
    {
      "cell_type": "code",
      "execution_count": 30,
      "metadata": {
        "id": "UsIgAC56dWMk"
      },
      "outputs": [],
      "source": [
        "if torch.cuda.is_available():\n",
        "  DEVICE = 'cuda'\n",
        "else:\n",
        "  DEVICE = 'cpu'"
      ]
    },
    {
      "cell_type": "markdown",
      "source": [
        "## Introduction Figure\n",
        "\n",
        "This figure is a variant of the one presented in the introduction of Elhage et al.. In this case we modulated the degree of correlation between input features instead of their sparsity."
      ],
      "metadata": {
        "id": "QpshP3ppjsIg"
      }
    },
    {
      "cell_type": "code",
      "source": [
        "config = Config(\n",
        "    n_features = 5,\n",
        "    n_hidden = 2,\n",
        "    n_instances = 4,\n",
        ")\n",
        "\n",
        "model = Model(\n",
        "    config=config,\n",
        "    device=DEVICE,\n",
        "     importance = (torch.ones(config.n_features))[None, :], # Equal importance\n",
        "    feature_probability = (torch.zeros( config.n_instances))[:, None], # The mask is not used anyway\n",
        "    alpha = 0.0\n",
        ")"
      ],
      "metadata": {
        "id": "crVhVxhIj5pK"
      },
      "execution_count": 31,
      "outputs": []
    },
    {
      "cell_type": "code",
      "source": [
        "# Plot covariance matrix\n",
        "plt.figure(figsize=(4,4))\n",
        "plt.title(\"Covariance matrix\")\n",
        "plt.imshow(model.cov_matrix.detach().cpu().numpy()[i], cmap='inferno')\n",
        "plt.colorbar()\n",
        "plt.show()"
      ],
      "metadata": {
        "colab": {
          "base_uri": "https://localhost:8080/",
          "height": 694
        },
        "id": "UuwM8uE1l3DC",
        "outputId": "7724f899-5249-4db2-d231-7f980eb8ec99"
      },
      "execution_count": 36,
      "outputs": [
        {
          "output_type": "display_data",
          "data": {
            "text/plain": [
              "<Figure size 800x800 with 2 Axes>"
            ],
            "image/png": "[encoded data removed]"
          },
          "metadata": {}
        }
      ]
    },
    {
      "cell_type": "code",
      "source": [
        "optimize(model)"
      ],
      "metadata": {
        "colab": {
          "base_uri": "https://localhost:8080/",
          "height": 49,
          "referenced_widgets": [
            "be2ec00fb08a40cb93555d0964a6f65c",
            "65a08be9a095477b85ec536c08afdd0c",
            "182871d86e8f4f7fac3df5ff3626bd2d",
            "e4020da8958a488a87d916e768b29ec4",
            "7e04a0673c9544078f60bace0a0f1e0e",
            "431d38cf253047c980f73930a8eba508",
            "594023aa21724d31ab489db20a68948a",
            "35c2389c0f6c40a69d36f468c2dfc0e4",
            "c6e8a069812a45fca972b8202ca4c5dd",
            "30930ef3405249e397010e00140ac91f",
            "4d8a02c2deb74e68ab4c825974f02ab5"
          ]
        },
        "id": "oveRpg0skeJf",
        "outputId": "662faf1b-dafb-45cf-9d99-fea66d998839"
      },
      "execution_count": 33,
      "outputs": [
        {
          "output_type": "display_data",
          "data": {
            "text/plain": [
              "  0%|          | 0/10000 [00:00<?, ?it/s]"
            ],
            "application/vnd.jupyter.widget-view+json": {
              "version_major": 2,
              "version_minor": 0,
              "model_id": "be2ec00fb08a40cb93555d0964a6f65c"
            }
          },
          "metadata": {}
        }
      ]
    },
    {
      "cell_type": "code",
      "source": [
        "import matplotlib as mpl\n",
        "import matplotlib.pyplot as plt\n",
        "import numpy as np\n",
        "from matplotlib import colors as mcolors\n",
        "from matplotlib import collections as mc\n",
        "\n",
        "def plot_intro_diagram(model):\n",
        "    cfg = model.config\n",
        "    WA = model.W.detach()\n",
        "    N = len(WA[:,0])\n",
        "    sel = range(cfg.n_instances)  # can be used to highlight specific sparsity levels\n",
        "\n",
        "    # Create a colormap instance\n",
        "    cmap = plt.cm.tab10\n",
        "\n",
        "    plt.rcParams['figure.dpi'] = 200\n",
        "    fig, axs = plt.subplots(1, len(sel), figsize=(2*len(sel), 2))\n",
        "\n",
        "    if len(sel) == 1:\n",
        "        axs = [axs]  # Ensure axs is always a list for consistent indexing\n",
        "\n",
        "    for i, ax in zip(sel, axs):\n",
        "        W = WA[i].cpu().detach().numpy()\n",
        "\n",
        "        # Generate colors from the inferno colormap\n",
        "        colors = [cmap(j / (cfg.n_features - 1)) for j in range(cfg.n_features)]\n",
        "\n",
        "        for j in range(cfg.n_features):\n",
        "            ax.arrow(0, 0, W[j,0], W[j,1], length_includes_head=True,\n",
        "                     head_width=0.1, label=f\"Feature {j}\", color=colors[j])\n",
        "\n",
        "        ax.set_aspect('equal')\n",
        "\n",
        "        if i == 0:\n",
        "          ax.legend(fontsize=6, loc=\"lower right\")\n",
        "\n",
        "\n",
        "        z = 1.5\n",
        "        ax.set_xlim((-z, z))\n",
        "        ax.set_ylim((-z, z))\n",
        "        ax.tick_params(left=True, right=False, labelleft=False,\n",
        "                       labelbottom=False, bottom=True)\n",
        "        for spine in ['top', 'right']:\n",
        "            ax.spines[spine].set_visible(False)\n",
        "        for spine in ['bottom', 'left']:\n",
        "            ax.spines[spine].set_position('center')\n",
        "\n",
        "    plt.tight_layout()\n",
        "    plt.show()\n",
        "\n",
        "# Usage\n",
        "plot_intro_diagram(model)"
      ],
      "metadata": {
        "colab": {
          "base_uri": "https://localhost:8080/",
          "height": 397
        },
        "id": "hAREurbUkji1",
        "outputId": "a611aec6-8e0e-41a3-83d8-2d0e23bf17f3"
      },
      "execution_count": 34,
      "outputs": [
        {
          "output_type": "display_data",
          "data": {
            "text/plain": [
              "<Figure size 1600x400 with 4 Axes>"
            ],
            "image/png": "[encoded data removed]"
          },
          "metadata": {}
        }
      ]
    }
  ],
  "metadata": {
    "colab": {
      "provenance": []
    },
    "kernelspec": {
      "display_name": "Python 3",
      "name": "python3"
    },
    "language_info": {
      "name": "python"
    },
    "widgets": {
      "application/vnd.jupyter.widget-state+json": {
        "be2ec00fb08a40cb93555d0964a6f65c": {
          "model_module": "@jupyter-widgets/controls",
          "model_name": "HBoxModel",
          "model_module_version": "1.5.0",
          "state": {
            "_dom_classes": [],
            "_model_module": "@jupyter-widgets/controls",
            "_model_module_version": "1.5.0",
            "_model_name": "HBoxModel",
            "_view_count": null,
            "_view_module": "@jupyter-widgets/controls",
            "_view_module_version": "1.5.0",
            "_view_name": "HBoxView",
            "box_style": "",
            "children": [
              "IPY_MODEL_65a08be9a095477b85ec536c08afdd0c",
              "IPY_MODEL_182871d86e8f4f7fac3df5ff3626bd2d",
              "IPY_MODEL_e4020da8958a488a87d916e768b29ec4"
            ],
            "layout": "IPY_MODEL_7e04a0673c9544078f60bace0a0f1e0e"
          }
        },
        "65a08be9a095477b85ec536c08afdd0c": {
          "model_module": "@jupyter-widgets/controls",
          "model_name": "HTMLModel",
          "model_module_version": "1.5.0",
          "state": {
            "_dom_classes": [],
            "_model_module": "@jupyter-widgets/controls",
            "_model_module_version": "1.5.0",
            "_model_name": "HTMLModel",
            "_view_count": null,
            "_view_module": "@jupyter-widgets/controls",
            "_view_module_version": "1.5.0",
            "_view_name": "HTMLView",
            "description": "",
            "description_tooltip": null,
            "layout": "IPY_MODEL_431d38cf253047c980f73930a8eba508",
            "placeholder": "​",
            "style": "IPY_MODEL_594023aa21724d31ab489db20a68948a",
            "value": "100%"
          }
        },
        "182871d86e8f4f7fac3df5ff3626bd2d": {
          "model_module": "@jupyter-widgets/controls",
          "model_name": "FloatProgressModel",
          "model_module_version": "1.5.0",
          "state": {
            "_dom_classes": [],
            "_model_module": "@jupyter-widgets/controls",
            "_model_module_version": "1.5.0",
            "_model_name": "FloatProgressModel",
            "_view_count": null,
            "_view_module": "@jupyter-widgets/controls",
            "_view_module_version": "1.5.0",
            "_view_name": "ProgressView",
            "bar_style": "success",
            "description": "",
            "description_tooltip": null,
            "layout": "IPY_MODEL_35c2389c0f6c40a69d36f468c2dfc0e4",
            "max": 10000,
            "min": 0,
            "orientation": "horizontal",
            "style": "IPY_MODEL_c6e8a069812a45fca972b8202ca4c5dd",
            "value": 10000
          }
        },
        "e4020da8958a488a87d916e768b29ec4": {
          "model_module": "@jupyter-widgets/controls",
          "model_name": "HTMLModel",
          "model_module_version": "1.5.0",
          "state": {
            "_dom_classes": [],
            "_model_module": "@jupyter-widgets/controls",
            "_model_module_version": "1.5.0",
            "_model_name": "HTMLModel",
            "_view_count": null,
            "_view_module": "@jupyter-widgets/controls",
            "_view_module_version": "1.5.0",
            "_view_name": "HTMLView",
            "description": "",
            "description_tooltip": null,
            "layout": "IPY_MODEL_30930ef3405249e397010e00140ac91f",
            "placeholder": "​",
            "style": "IPY_MODEL_4d8a02c2deb74e68ab4c825974f02ab5",
            "value": " 10000/10000 [00:36&lt;00:00, 185.10it/s, loss=0.399, lr=0.001]"
          }
        },
        "7e04a0673c9544078f60bace0a0f1e0e": {
          "model_module": "@jupyter-widgets/base",
          "model_name": "LayoutModel",
          "model_module_version": "1.2.0",
          "state": {
            "_model_module": "@jupyter-widgets/base",
            "_model_module_version": "1.2.0",
            "_model_name": "LayoutModel",
            "_view_count": null,
            "_view_module": "@jupyter-widgets/base",
            "_view_module_version": "1.2.0",
            "_view_name": "LayoutView",
            "align_content": null,
            "align_items": null,
            "align_self": null,
            "border": null,
            "bottom": null,
            "display": null,
            "flex": null,
            "flex_flow": null,
            "grid_area": null,
            "grid_auto_columns": null,
            "grid_auto_flow": null,
            "grid_auto_rows": null,
            "grid_column": null,
            "grid_gap": null,
            "grid_row": null,
            "grid_template_areas": null,
            "grid_template_columns": null,
            "grid_template_rows": null,
            "height": null,
            "justify_content": null,
            "justify_items": null,
            "left": null,
            "margin": null,
            "max_height": null,
            "max_width": null,
            "min_height": null,
            "min_width": null,
            "object_fit": null,
            "object_position": null,
            "order": null,
            "overflow": null,
            "overflow_x": null,
            "overflow_y": null,
            "padding": null,
            "right": null,
            "top": null,
            "visibility": null,
            "width": null
          }
        },
        "431d38cf253047c980f73930a8eba508": {
          "model_module": "@jupyter-widgets/base",
          "model_name": "LayoutModel",
          "model_module_version": "1.2.0",
          "state": {
            "_model_module": "@jupyter-widgets/base",
            "_model_module_version": "1.2.0",
            "_model_name": "LayoutModel",
            "_view_count": null,
            "_view_module": "@jupyter-widgets/base",
            "_view_module_version": "1.2.0",
            "_view_name": "LayoutView",
            "align_content": null,
            "align_items": null,
            "align_self": null,
            "border": null,
            "bottom": null,
            "display": null,
            "flex": null,
            "flex_flow": null,
            "grid_area": null,
            "grid_auto_columns": null,
            "grid_auto_flow": null,
            "grid_auto_rows": null,
            "grid_column": null,
            "grid_gap": null,
            "grid_row": null,
            "grid_template_areas": null,
            "grid_template_columns": null,
            "grid_template_rows": null,
            "height": null,
            "justify_content": null,
            "justify_items": null,
            "left": null,
            "margin": null,
            "max_height": null,
            "max_width": null,
            "min_height": null,
            "min_width": null,
            "object_fit": null,
            "object_position": null,
            "order": null,
            "overflow": null,
            "overflow_x": null,
            "overflow_y": null,
            "padding": null,
            "right": null,
            "top": null,
            "visibility": null,
            "width": null
          }
        },
        "594023aa21724d31ab489db20a68948a": {
          "model_module": "@jupyter-widgets/controls",
          "model_name": "DescriptionStyleModel",
          "model_module_version": "1.5.0",
          "state": {
            "_model_module": "@jupyter-widgets/controls",
            "_model_module_version": "1.5.0",
            "_model_name": "DescriptionStyleModel",
            "_view_count": null,
            "_view_module": "@jupyter-widgets/base",
            "_view_module_version": "1.2.0",
            "_view_name": "StyleView",
            "description_width": ""
          }
        },
        "35c2389c0f6c40a69d36f468c2dfc0e4": {
          "model_module": "@jupyter-widgets/base",
          "model_name": "LayoutModel",
          "model_module_version": "1.2.0",
          "state": {
            "_model_module": "@jupyter-widgets/base",
            "_model_module_version": "1.2.0",
            "_model_name": "LayoutModel",
            "_view_count": null,
            "_view_module": "@jupyter-widgets/base",
            "_view_module_version": "1.2.0",
            "_view_name": "LayoutView",
            "align_content": null,
            "align_items": null,
            "align_self": null,
            "border": null,
            "bottom": null,
            "display": null,
            "flex": null,
            "flex_flow": null,
            "grid_area": null,
            "grid_auto_columns": null,
            "grid_auto_flow": null,
            "grid_auto_rows": null,
            "grid_column": null,
            "grid_gap": null,
            "grid_row": null,
            "grid_template_areas": null,
            "grid_template_columns": null,
            "grid_template_rows": null,
            "height": null,
            "justify_content": null,
            "justify_items": null,
            "left": null,
            "margin": null,
            "max_height": null,
            "max_width": null,
            "min_height": null,
            "min_width": null,
            "object_fit": null,
            "object_position": null,
            "order": null,
            "overflow": null,
            "overflow_x": null,
            "overflow_y": null,
            "padding": null,
            "right": null,
            "top": null,
            "visibility": null,
            "width": null
          }
        },
        "c6e8a069812a45fca972b8202ca4c5dd": {
          "model_module": "@jupyter-widgets/controls",
          "model_name": "ProgressStyleModel",
          "model_module_version": "1.5.0",
          "state": {
            "_model_module": "@jupyter-widgets/controls",
            "_model_module_version": "1.5.0",
            "_model_name": "ProgressStyleModel",
            "_view_count": null,
            "_view_module": "@jupyter-widgets/base",
            "_view_module_version": "1.2.0",
            "_view_name": "StyleView",
            "bar_color": null,
            "description_width": ""
          }
        },
        "30930ef3405249e397010e00140ac91f": {
          "model_module": "@jupyter-widgets/base",
          "model_name": "LayoutModel",
          "model_module_version": "1.2.0",
          "state": {
            "_model_module": "@jupyter-widgets/base",
            "_model_module_version": "1.2.0",
            "_model_name": "LayoutModel",
            "_view_count": null,
            "_view_module": "@jupyter-widgets/base",
            "_view_module_version": "1.2.0",
            "_view_name": "LayoutView",
            "align_content": null,
            "align_items": null,
            "align_self": null,
            "border": null,
            "bottom": null,
            "display": null,
            "flex": null,
            "flex_flow": null,
            "grid_area": null,
            "grid_auto_columns": null,
            "grid_auto_flow": null,
            "grid_auto_rows": null,
            "grid_column": null,
            "grid_gap": null,
            "grid_row": null,
            "grid_template_areas": null,
            "grid_template_columns": null,
            "grid_template_rows": null,
            "height": null,
            "justify_content": null,
            "justify_items": null,
            "left": null,
            "margin": null,
            "max_height": null,
            "max_width": null,
            "min_height": null,
            "min_width": null,
            "object_fit": null,
            "object_position": null,
            "order": null,
            "overflow": null,
            "overflow_x": null,
            "overflow_y": null,
            "padding": null,
            "right": null,
            "top": null,
            "visibility": null,
            "width": null
          }
        },
        "4d8a02c2deb74e68ab4c825974f02ab5": {
          "model_module": "@jupyter-widgets/controls",
          "model_name": "DescriptionStyleModel",
          "model_module_version": "1.5.0",
          "state": {
            "_model_module": "@jupyter-widgets/controls",
            "_model_module_version": "1.5.0",
            "_model_name": "DescriptionStyleModel",
            "_view_count": null,
            "_view_module": "@jupyter-widgets/base",
            "_view_module_version": "1.2.0",
            "_view_name": "StyleView",
            "description_width": ""
          }
        }
      }
    }
  },
  "nbformat": 4,
  "nbformat_minor": 0
}